{
 "cells": [
  {
   "cell_type": "code",
   "execution_count": 5,
   "metadata": {},
   "outputs": [],
   "source": [
    "import sys\n",
    "sys.path.insert(0, \"../\")\n",
    "import pyErrorPred\n",
    "import numpy as np"
   ]
  },
  {
   "cell_type": "code",
   "execution_count": 6,
   "metadata": {},
   "outputs": [],
   "source": [
    "# Get filenames of original pdb and predictions\n",
    "predname = '/projects/ml/for/docking/output_pdbs/longxing_HEEH_14976_000000014_0001_0001.npz'\n",
    "pdbname  = '/projects/ml/for/docking/pdbs/longxing_HEEH_14976_000000014_0001_0001.pdb'\n",
    "\n",
    "# Load prediction\n",
    "pred = np.load(predname)\n",
    "\n",
    "# Get inter and intra interaction masks\n",
    "# Returns interface map, chainA map, and chainB map\n",
    "imap, [map1, map2] = pyErrorPred.get_interaction_map(pdbname)"
   ]
  },
  {
   "cell_type": "code",
   "execution_count": 7,
   "metadata": {},
   "outputs": [],
   "source": [
    "# Good for analyzing monomer\n",
    "global_lddt    = np.mean(pyErrorPred.get_lddt(pred[\"estogram\"], pred[\"mask\"]))\n",
    "\n",
    "# Good for analyzing binder + target\n",
    "interface_lddt = np.mean(pyErrorPred.get_lddt(pred[\"estogram\"], np.multiply(imap, pred[\"mask\"])))\n",
    "chainA_lddt    = np.mean(pyErrorPred.get_lddt(pred[\"estogram\"], np.multiply(map1, pred[\"mask\"])))\n",
    "chainB_lddt    = np.mean(pyErrorPred.get_lddt(pred[\"estogram\"], np.multiply(map2, pred[\"mask\"])))\n",
    "\n",
    "# Best metric for binder + target (with chainA as binder of course)\n",
    "score          = interface_lddt+chainA_lddt"
   ]
  }
 ],
 "metadata": {
  "kernelspec": {
   "display_name": "Python 3",
   "language": "python",
   "name": "python3"
  },
  "language_info": {
   "codemirror_mode": {
    "name": "ipython",
    "version": 3
   },
   "file_extension": ".py",
   "mimetype": "text/x-python",
   "name": "python",
   "nbconvert_exporter": "python",
   "pygments_lexer": "ipython3",
   "version": "3.6.9"
  }
 },
 "nbformat": 4,
 "nbformat_minor": 2
}
